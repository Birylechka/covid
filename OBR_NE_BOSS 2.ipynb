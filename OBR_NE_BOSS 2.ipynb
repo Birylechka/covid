{
 "cells": [
  {
   "cell_type": "code",
   "execution_count": 57,
   "metadata": {
    "scrolled": true
   },
   "outputs": [
    {
     "name": "stdout",
     "output_type": "stream",
     "text": [
      "загрузка данных\n",
      "DF1 chisl - Done\n",
      "список ТН - Done\n",
      "download shablon\n",
      "Запускается перебор строк\n",
      "переменные\n",
      "save - C:\\Users\\19356099\\Documents\\В РАЗРАБОТКЕ\\Обработчик не определился для руководителей\\ovbNEBOSS\\Обработчик неопределился для руковод2.xlsx\n"
     ]
    }
   ],
   "source": [
    "import datetime\n",
    "import calendar\n",
    "import win32com.client as win32\n",
    "import openpyxl\n",
    "import pandas as pd\n",
    "import ctypes\n",
    "import win32com\n",
    "import time\n",
    "import shutil\n",
    "import warnings\n",
    "import numpy as np\n",
    "import os\n",
    "from pathlib import Path\n",
    "from openpyxl.styles import Font, NamedStyle, Alignment\n",
    "\n",
    "\n",
    "spr = str(Path.cwd() / f'spr/Справочник.xlsx') #№1 таблица Справочник\n",
    "name_s = os.path.basename(spr)\n",
    "shabl = str(Path.cwd() / f'ovbNEBOSS/Обработчик неопределился для руковод.xlsx') \n",
    "file_cov = str(Path.cwd() /f'ovbNEBOSS/Обработчик неопределился для руковод2.xlsx')  #сформированный файл\n",
    "\n",
    "excel = win32.Dispatch(\"Excel.Application\") #интеграция\n",
    "ex = True  # Поставить False для итогового варианта\n",
    "excel.Visible = ex\n",
    "excel.DisplayAlerts = ex\n",
    "excel.ScreenUpdating = ex\n",
    "\n",
    "print('загрузка данных')\n",
    "\n",
    "#чтение таблицы 1 \n",
    "df2 = pd.read_excel(spr, sheet_name='Справочник')\n",
    "\n",
    "df2.fillna(\"-\", inplace=True) \n",
    "df2['Табельный номер руководителя'] = df2['Табельный номер руководителя'].astype(int)\n",
    "df2 = df2.rename(columns={\"Табельный номер руководителя\": \"ТН\"})\n",
    "\n",
    "print('DF1 chisl - Done')\n",
    "lst_t1 = df2.ТН.tolist()\n",
    "print(\"список ТН - Done\") \n",
    "df2 = df2.set_index('ТН') \n",
    "\n",
    "print('download shablon')\n",
    "start_time_2 = time.time()  # время запуска\n",
    "wb = openpyxl.load_workbook(shabl)\n",
    "\n",
    "ws = wb.active\n",
    "n = 0\n",
    "sheets = wb.sheetnames\n",
    "wsa = wb[sheets[n]]\n",
    "# print(wsa)\n",
    "rows = wsa.max_row \n",
    "cols = wsa.max_column \n",
    "# wsa.sheet_properties.tabColor = '66FF00'\n",
    "print('Запускается перебор строк')\n",
    "\n",
    "#выгрузка данных в шаблон wsa \n",
    "for i in range(2, rows+1):\n",
    "    if wsa.cell(row=i, column=2).value in lst_t1:\n",
    "        wsa.cell(row=i, column=3).value = df2.loc[wsa.cell(row=i, column=2).value, \"Внутренний e-mail руков\"]\n",
    "        wsa.cell(row=i, column=4).value = df2.loc[wsa.cell(row=i, column=2).value, \"Внешний e-mail руков\"]\n",
    "        \n",
    "    if wsa.cell(row=i, column=2).value==wsa.cell(row=i-1, column=2).value:\n",
    "        wsa.cell(row=i, column=5).value=wsa.cell(row=i-1, column=5).value+1\n",
    "    else: wsa.cell(row=i, column=5).value=1\n",
    "    \n",
    "   # wsa.cell(row=i, column=4).value=str(wsa.cell(row=i, column=4).value)\n",
    "   # wsa.cell(row=i, column=3).value=str(wsa.cell(row=i, column=3).value)\n",
    "for i in range(2, rows+1):    \n",
    "    if wsa.cell(row=i, column=4).value!='' and wsa.cell(row=i, column=5).value!='':\n",
    "        wsa.cell(row=i, column=5).value=str(wsa.cell(row=i, column=5).value)\n",
    "        wsa.cell(row=i, column=1).value=str(wsa.cell(row=i, column=1).value)\n",
    "        wsa.cell(row=i, column=6).value=\"<strong>\"+(wsa.cell(row=i, column=5).value)+\".\"+\" \"+(wsa.cell(row=i, column=1).value)+\"</strong>\"+\"<br>\"+\"<br>\"\n",
    "\n",
    "    if wsa.cell(row=i, column=2).value==wsa.cell(row=i-1, column=2).value and wsa.cell(row=i, column=7).value!=\"\":\n",
    "        wsa.cell(row=i, column=6).value=str(wsa.cell(row=i, column=6).value)\n",
    "        wsa.cell(row=i-1, column=7).value=str(wsa.cell(row=i-1, column=7).value)\n",
    "        wsa.cell(row=i, column=7).value=wsa.cell(row=i-1, column=7).value+wsa.cell(row=i, column=6).value\n",
    "    else: wsa.cell(row=i, column=7).value=wsa.cell(row=i, column=6).value\n",
    "\n",
    "for i in range(2, rows+1): \n",
    "    arg1=str(wsa.cell(row=i+1, column=7).value)\n",
    "    arg2=str(wsa.cell(row=i, column=7).value)\n",
    "    if len(arg2)<len(arg1):\n",
    "        wsa.cell(row=i, column=8).value=0\n",
    "    else: wsa.cell(row=i, column=8).value=1\n",
    "\n",
    "for i in range(2, rows+1): \n",
    "    if wsa.cell(row=i, column=8).value==1:\n",
    "        wsa.cell(row=i, column=9).value=\"<br>\"+\"<br>\"+(wsa.cell(row=i, column=7).value)\n",
    "    else: wsa.cell(row=i, column=9).value=\"\"\n",
    "print('переменные')\n",
    "\n",
    "wb.save(file_cov)\n",
    "ext = True\n",
    "excel.Visible = ext\n",
    "excel.DisplayAlerts = ext\n",
    "excel.ScreenUpdating = ext\n",
    "\n",
    "print(f'save - {file_cov}')"
   ]
  },
  {
   "cell_type": "code",
   "execution_count": null,
   "metadata": {
    "collapsed": true
   },
   "outputs": [],
   "source": []
  },
  {
   "cell_type": "code",
   "execution_count": null,
   "metadata": {
    "collapsed": true
   },
   "outputs": [],
   "source": []
  },
  {
   "cell_type": "code",
   "execution_count": null,
   "metadata": {
    "collapsed": true
   },
   "outputs": [],
   "source": []
  }
 ],
 "metadata": {
  "kernelspec": {
   "display_name": "Python 3",
   "language": "python",
   "name": "python3"
  },
  "language_info": {
   "codemirror_mode": {
    "name": "ipython",
    "version": 3
   },
   "file_extension": ".py",
   "mimetype": "text/x-python",
   "name": "python",
   "nbconvert_exporter": "python",
   "pygments_lexer": "ipython3",
   "version": "3.6.1"
  }
 },
 "nbformat": 4,
 "nbformat_minor": 2
}
