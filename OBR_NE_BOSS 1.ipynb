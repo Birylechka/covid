{
 "cells": [
  {
   "cell_type": "code",
   "execution_count": 10,
   "metadata": {
    "scrolled": true
   },
   "outputs": [
    {
     "name": "stdout",
     "output_type": "stream",
     "text": [
      "готово\n"
     ]
    }
   ],
   "source": [
    "import win32com.client as win32\n",
    "import openpyxl \n",
    "import pandas as pd \n",
    "import ctypes \n",
    "import win32com \n",
    "import time \n",
    "import shutil \n",
    "import warnings \n",
    "import os \n",
    "import numpy as np \n",
    "import datetime \n",
    "import time \n",
    "import xlwings as xw\n",
    "\n",
    "dd = datetime.date.today().strftime(\"%d.%m.%Y\") \n",
    "\n",
    "df=pd.read_excel(f'file_cov/ВВБ_AntiCOV2_{dd}.xlsx', sheet_name='Лист1', \n",
    "               usecols=[\"Просрочена ревакцинация\", \"Не определился\", \"Табельный номер руководителя\", \"ФИО\"])\n",
    "\n",
    "df[\"ФИО\"]=np.where(((df[\"Не определился\"]==1)&(df[\"Просрочена ревакцинация\"]!=1)), df[\"ФИО\"], np.nan) \n",
    "df=df[df[\"ФИО\"].notnull()]\n",
    "df=df.sort_values(by=[\"Табельный номер руководителя\"])\n",
    "\n",
    "\n",
    "#выгрузка данных в шаблон wsa из Коллективного иммунитета df[\"ФИО\"]\n",
    "\n",
    "del df[\"Просрочена ревакцинация\"] \n",
    "del df[\"Не определился\"]\n",
    "\n",
    "df[\"Внутренний e-mail руков\"]=\"\" \n",
    "df[\"Внешний e-mail руков\"]=\"\"\n",
    "df[\"Нумерация\"]=\"\"\n",
    "df[\"Сцепка1\"]=\"\"\n",
    "df[\"Сцепка2\"]=\"\"\n",
    "df[\"Выбор\"]=\"\"\n",
    "df[\"Сообщение\"]=\"\"\n",
    "\n",
    "df.to_excel(f'ovbNEBOSS/Обработчик неопределился для руковод.xlsx', index=False)\n",
    "\n",
    "print(\"готово\")"
   ]
  },
  {
   "cell_type": "code",
   "execution_count": null,
   "metadata": {
    "collapsed": true
   },
   "outputs": [],
   "source": []
  },
  {
   "cell_type": "code",
   "execution_count": null,
   "metadata": {
    "collapsed": true
   },
   "outputs": [],
   "source": []
  },
  {
   "cell_type": "code",
   "execution_count": null,
   "metadata": {
    "collapsed": true
   },
   "outputs": [],
   "source": []
  }
 ],
 "metadata": {
  "kernelspec": {
   "display_name": "Python 3",
   "language": "python",
   "name": "python3"
  },
  "language_info": {
   "codemirror_mode": {
    "name": "ipython",
    "version": 3
   },
   "file_extension": ".py",
   "mimetype": "text/x-python",
   "name": "python",
   "nbconvert_exporter": "python",
   "pygments_lexer": "ipython3",
   "version": "3.6.1"
  }
 },
 "nbformat": 4,
 "nbformat_minor": 2
}
