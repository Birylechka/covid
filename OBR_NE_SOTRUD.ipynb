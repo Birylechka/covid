{
 "cells": [
  {
   "cell_type": "code",
   "execution_count": 4,
   "metadata": {
    "scrolled": true
   },
   "outputs": [
    {
     "name": "stdout",
     "output_type": "stream",
     "text": [
      "готово\n"
     ]
    }
   ],
   "source": [
    "import win32com.client as win32\n",
    "import openpyxl\n",
    "import pandas as pd\n",
    "import ctypes\n",
    "import win32com\n",
    "import time\n",
    "import shutil\n",
    "import warnings\n",
    "import os\n",
    "from pathlib import Path\n",
    "import numpy as np\n",
    "import datetime\n",
    "import time\n",
    "\n",
    "dd = datetime.date.today().strftime(\"%d.%m.%Y\")\n",
    "df=pd.read_excel(f'file_cov/ВВБ_AntiCOV2_{dd}.xlsx', sheet_name='Лист1', \n",
    "               usecols=[\"Внутренний e-mail\", \"Внешний e-mail\", \"Просрочена ревакцинация\", \"Не определился\", \"ФИО\"])\n",
    "\n",
    "#выгрузка данных в шаблон wsa из Коллективного иммунитета\n",
    "df[\"Внутренний e-mail\"]=np.where((df[\"Просрочена ревакцинация\"]!=1)&(df[\"Не определился\"]==1), df[\"Внутренний e-mail\"], np.nan)\n",
    "df=df[df[\"Внутренний e-mail\"].notnull()]\n",
    "    \n",
    "del df[\"Просрочена ревакцинация\"]\n",
    "del df[\"Не определился\"]\n",
    "\n",
    "df.to_excel(f'ovb/Обработчик неопред.xlsx', index=False)\n",
    "\n",
    "print('готово')\n"
   ]
  },
  {
   "cell_type": "code",
   "execution_count": null,
   "metadata": {
    "collapsed": true
   },
   "outputs": [],
   "source": []
  },
  {
   "cell_type": "code",
   "execution_count": null,
   "metadata": {
    "collapsed": true
   },
   "outputs": [],
   "source": []
  },
  {
   "cell_type": "code",
   "execution_count": null,
   "metadata": {
    "collapsed": true
   },
   "outputs": [],
   "source": []
  }
 ],
 "metadata": {
  "kernelspec": {
   "display_name": "Python 3",
   "language": "python",
   "name": "python3"
  },
  "language_info": {
   "codemirror_mode": {
    "name": "ipython",
    "version": 3
   },
   "file_extension": ".py",
   "mimetype": "text/x-python",
   "name": "python",
   "nbconvert_exporter": "python",
   "pygments_lexer": "ipython3",
   "version": "3.6.1"
  }
 },
 "nbformat": 4,
 "nbformat_minor": 2
}
