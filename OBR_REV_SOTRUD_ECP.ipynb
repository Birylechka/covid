{
 "cells": [
  {
   "cell_type": "code",
   "execution_count": 11,
   "metadata": {
    "scrolled": true
   },
   "outputs": [
    {
     "name": "stdout",
     "output_type": "stream",
     "text": [
      "готово\n",
      "готово2\n"
     ]
    }
   ],
   "source": [
    "import win32com.client as win32\n",
    "import openpyxl\n",
    "import pandas as pd\n",
    "import ctypes\n",
    "import win32com\n",
    "import time\n",
    "import shutil\n",
    "import warnings\n",
    "import os\n",
    "from pathlib import Path\n",
    "import numpy as np\n",
    "import datetime\n",
    "import time\n",
    "from openpyxl import Workbook\n",
    "from openpyxl.styles import Font\n",
    "\n",
    "dd = datetime.date.today().strftime(\"%d.%m.%Y\")\n",
    "df=pd.read_excel(f'file_cov/ВВБ_AntiCOV_v2_{dd}.xlsx', sheet_name='Лист1', \n",
    "               usecols=[\"Внутренний e-mail\", \"Просрочена ревакцинация\", \"Прогноз ревакцинации на неделю\"])\n",
    "\n",
    "#выгрузка \n",
    "df[\"Внутренний e-mail\"]=np.where((df[\"Просрочена ревакцинация\"]==1)|(df[\"Прогноз ревакцинации на неделю\"]==1), df[\"Внутренний e-mail\"], np.nan)\n",
    "df=df[df[\"Внутренний e-mail\"].notnull()]\n",
    "    \n",
    "del df[\"Просрочена ревакцинация\"]\n",
    "del df[\"Прогноз ревакцинации на неделю\"]\n",
    "\n",
    "df.to_excel(f'ovbECR/Обработчик к ревакцинации ЕСР.xlsx', index=False)\n",
    "\n",
    "print('готово')\n",
    "\n",
    "#изменение стиля текста и ширины столбца\n",
    "shabl = str(Path.cwd() / f'ovbECR/Обработчик к ревакцинации ЕСР.xlsx')\n",
    "wb = openpyxl.load_workbook(shabl)\n",
    "ws = wb.active\n",
    "ws.column_dimensions['A'].width = 43\n",
    "ws.cell(row=1000, column=1).font= Font(size=12, name ='Calibri')\n",
    "\n",
    "wb.save(f'ovbECR/Обработчик к ревакцинации ЕСР.xlsx')\n",
    "\n",
    "print('готово2')"
   ]
  },
  {
   "cell_type": "code",
   "execution_count": null,
   "metadata": {
    "collapsed": true
   },
   "outputs": [],
   "source": []
  },
  {
   "cell_type": "code",
   "execution_count": null,
   "metadata": {
    "collapsed": true
   },
   "outputs": [],
   "source": []
  },
  {
   "cell_type": "code",
   "execution_count": null,
   "metadata": {
    "collapsed": true
   },
   "outputs": [],
   "source": []
  }
 ],
 "metadata": {
  "kernelspec": {
   "display_name": "Python 3",
   "language": "python",
   "name": "python3"
  },
  "language_info": {
   "codemirror_mode": {
    "name": "ipython",
    "version": 3
   },
   "file_extension": ".py",
   "mimetype": "text/x-python",
   "name": "python",
   "nbconvert_exporter": "python",
   "pygments_lexer": "ipython3",
   "version": "3.6.1"
  }
 },
 "nbformat": 4,
 "nbformat_minor": 2
}
